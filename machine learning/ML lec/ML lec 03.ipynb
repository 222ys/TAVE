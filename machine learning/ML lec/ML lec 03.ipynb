{
 "cells": [
  {
   "cell_type": "markdown",
   "id": "cb258820",
   "metadata": {},
   "source": [
    "# Minimizing Cost"
   ]
  },
  {
   "cell_type": "markdown",
   "id": "754b3c27",
   "metadata": {},
   "source": [
    "### Gradient descent algorithm"
   ]
  },
  {
   "cell_type": "markdown",
   "id": "91a191f7",
   "metadata": {},
   "source": [
    "* 경사를 따라 내려가며 cost를 최소로 만들어주는 W을 찾는 방법"
   ]
  },
  {
   "cell_type": "markdown",
   "id": "c9c1c2a3",
   "metadata": {},
   "source": [
    "![nn](images/gradient_descent_graph.png)"
   ]
  },
  {
   "cell_type": "markdown",
   "id": "2896f39a",
   "metadata": {},
   "source": [
    "* Formal definition (W = W - cost(W)의 기울기)"
   ]
  },
  {
   "cell_type": "markdown",
   "id": "76d63003",
   "metadata": {},
   "source": [
    "![nn](images/gradient_descent.png)"
   ]
  },
  {
   "cell_type": "markdown",
   "id": "d8833169",
   "metadata": {},
   "source": [
    "### Convex function"
   ]
  },
  {
   "cell_type": "markdown",
   "id": "00a26eea",
   "metadata": {},
   "source": [
    "* 시작점에 따라 도착하는 지점이 달라질 수 있음\n",
    "* Convex function은 그물망같은 모양으로, 항상 같은 지점으로 도착함\n",
    "* Linear regression 실행 전, Cost function이 Convex function인지 먼저 확인 필수"
   ]
  },
  {
   "cell_type": "markdown",
   "id": "a2f828e8",
   "metadata": {},
   "source": [
    "![nn](images/convex_function.png)"
   ]
  },
  {
   "cell_type": "markdown",
   "id": "255335f0",
   "metadata": {},
   "source": [
    "# 실습"
   ]
  },
  {
   "cell_type": "code",
   "execution_count": 6,
   "id": "0eedb3ad",
   "metadata": {},
   "outputs": [],
   "source": [
    "import warnings\n",
    "warnings.filterwarnings('ignore')"
   ]
  },
  {
   "cell_type": "markdown",
   "id": "83c0ea7c",
   "metadata": {},
   "source": [
    "### Convex Function 확인"
   ]
  },
  {
   "cell_type": "code",
   "execution_count": 7,
   "id": "fdf9a1dd",
   "metadata": {},
   "outputs": [],
   "source": [
    "import matplotlib.pyplot as plt\n",
    "import tensorflow.compat.v1 as tf\n",
    "tf.disable_v2_behavior()"
   ]
  },
  {
   "cell_type": "code",
   "execution_count": 9,
   "id": "04314fda",
   "metadata": {},
   "outputs": [
    {
     "data": {
      "image/png": "[encoded data removed]",
      "text/plain": [
       "<Figure size 432x288 with 1 Axes>"
      ]
     },
     "metadata": {
      "needs_background": "light"
     },
     "output_type": "display_data"
    }
   ],
   "source": [
    "X = [1,2,3]\n",
    "Y = [1,2,3]\n",
    "W = tf.placeholder(tf.float32)\n",
    "hypothesis = X * W # 간략화한 H(x)\n",
    "cost = tf.reduce_mean(tf.square(hypothesis - Y))\n",
    "\n",
    "sess = tf.Session()\n",
    "sess.run(tf.global_variables_initializer())\n",
    "\n",
    "W_val=[]\n",
    "cost_val=[]\n",
    "for i in range(-30, 50):\n",
    "    feed_W = i * 0.1\n",
    "    curr_cost, curr_W = sess.run([cost, W], feed_dict={W : feed_W})\n",
    "    W_val.append(curr_W)\n",
    "    cost_val.append(curr_cost)\n",
    "    \n",
    "plt.plot(W_val, cost_val)\n",
    "plt.show()"
   ]
  },
  {
   "cell_type": "markdown",
   "id": "cde6afbe",
   "metadata": {},
   "source": [
    "### Gradient Descent 수동 구현"
   ]
  },
  {
   "cell_type": "code",
   "execution_count": 16,
   "id": "a8668899",
   "metadata": {},
   "outputs": [],
   "source": [
    "learning_rate = 0.1\n",
    "gradient = tf.reduce_mean((W * X - Y) * X)\n",
    "descent = W - learning_rate * gradient\n",
    "update = W.assign(descent)"
   ]
  },
  {
   "cell_type": "code",
   "execution_count": 17,
   "id": "77254dc1",
   "metadata": {
    "scrolled": true
   },
   "outputs": [
    {
     "name": "stdout",
     "output_type": "stream",
     "text": [
      "0 1.8795532 [0.36536515]\n",
      "1 0.53462833 [0.6615281]\n",
      "2 0.15207203 [0.8194817]\n",
      "3 0.043256056 [0.90372354]\n",
      "4 0.012303936 [0.94865257]\n",
      "5 0.0034997903 [0.9726147]\n",
      "6 0.0009954894 [0.98539454]\n",
      "7 0.00028316423 [0.9922104]\n",
      "8 8.054388e-05 [0.99584556]\n",
      "9 2.2910113e-05 [0.9977843]\n",
      "10 6.517124e-06 [0.9988183]\n",
      "11 1.853576e-06 [0.99936974]\n",
      "12 5.2738187e-07 [0.99966383]\n",
      "13 1.5001085e-07 [0.9998207]\n",
      "14 4.2655568e-08 [0.9999044]\n",
      "15 1.2113831e-08 [0.99994904]\n",
      "16 3.4474397e-09 [0.9999728]\n",
      "17 9.772675e-10 [0.9999855]\n",
      "18 2.8204283e-10 [0.99999225]\n",
      "19 7.9425654e-11 [0.9999959]\n",
      "20 2.2961189e-11 [0.9999978]\n"
     ]
    }
   ],
   "source": [
    "x_data = [1,2,3]\n",
    "y_data = [1,2,3]\n",
    "W = tf.Variable(tf.random_normal([1]), name='weight')\n",
    "X = tf.placeholder(tf.float32)\n",
    "Y = tf.placeholder(tf.float32)\n",
    "hypothesis = X * W\n",
    "cost = tf.reduce_mean(tf.square(hypothesis - Y))\n",
    "\n",
    "# gradient descent 수동으로 구현\n",
    "learning_rate = 0.1\n",
    "gradient = tf.reduce_mean((W * X - Y) * X)\n",
    "descent = W - learning_rate * gradient\n",
    "update = W.assign(descent)\n",
    "\n",
    "sess=tf.Session()\n",
    "sess.run(tf.global_variables_initializer())\n",
    "\n",
    "for step in range(21):\n",
    "    sess.run(update, feed_dict={X: x_data, Y: y_data})\n",
    "    print(step, sess.run(cost, feed_dict={X: x_data, Y: y_data}), sess.run(W))"
   ]
  },
  {
   "cell_type": "markdown",
   "id": "a6d94477",
   "metadata": {},
   "source": [
    "### Gradient Descent 자동 구현"
   ]
  },
  {
   "cell_type": "code",
   "execution_count": 18,
   "id": "96da822f",
   "metadata": {},
   "outputs": [],
   "source": [
    "optimizer = tf.train.GradientDescentOptimizer(learning_rate=0.1)\n",
    "train = optimizer.minimize(cost)"
   ]
  },
  {
   "cell_type": "code",
   "execution_count": 19,
   "id": "7d4c7336",
   "metadata": {
    "scrolled": true
   },
   "outputs": [
    {
     "name": "stdout",
     "output_type": "stream",
     "text": [
      "0 5.0\n",
      "1 1.2666664\n",
      "2 1.0177778\n",
      "3 1.0011852\n",
      "4 1.000079\n",
      "5 1.0000052\n",
      "6 1.0000004\n",
      "7 1.0\n",
      "8 1.0\n",
      "9 1.0\n"
     ]
    }
   ],
   "source": [
    "W = tf.Variable(5.0) # 시작점을 말도 안되는 값을 줘 봄\n",
    "X = [1,2,3]\n",
    "Y = [1,2,3]\n",
    "hypothesis = X * W\n",
    "cost = tf.reduce_mean(tf.square(hypothesis - Y))\n",
    "\n",
    "# gradient descent 자동으로 구현\n",
    "optimizer = tf.train.GradientDescentOptimizer(learning_rate=0.1)\n",
    "train = optimizer.minimize(cost)\n",
    "\n",
    "sess=tf.Session()\n",
    "sess.run(tf.global_variables_initializer())\n",
    "\n",
    "for step in range(10):\n",
    "    print(step, sess.run(W))\n",
    "    sess.run(train)"
   ]
  },
  {
   "cell_type": "code",
   "execution_count": 20,
   "id": "deacddf4",
   "metadata": {},
   "outputs": [
    {
     "name": "stdout",
     "output_type": "stream",
     "text": [
      "0 -3.0\n",
      "1 0.7333336\n",
      "2 0.98222226\n",
      "3 0.9988148\n",
      "4 0.99992096\n",
      "5 0.9999947\n",
      "6 0.99999964\n",
      "7 0.99999994\n",
      "8 1.0\n",
      "9 1.0\n"
     ]
    }
   ],
   "source": [
    "W = tf.Variable(-3.0) # 시작점을 말도 안되는 값을 줘 봄\n",
    "X = [1,2,3]\n",
    "Y = [1,2,3]\n",
    "hypothesis = X * W\n",
    "cost = tf.reduce_mean(tf.square(hypothesis - Y))\n",
    "\n",
    "# gradient descent 자동으로 구현\n",
    "optimizer = tf.train.GradientDescentOptimizer(learning_rate=0.1)\n",
    "train = optimizer.minimize(cost)\n",
    "\n",
    "sess=tf.Session()\n",
    "sess.run(tf.global_variables_initializer())\n",
    "\n",
    "for step in range(10):\n",
    "    print(step, sess.run(W))\n",
    "    sess.run(train)"
   ]
  },
  {
   "cell_type": "markdown",
   "id": "6062cd60",
   "metadata": {},
   "source": [
    "### Optional: compute_gradient and apply_gradient"
   ]
  },
  {
   "cell_type": "code",
   "execution_count": 21,
   "id": "614bab71",
   "metadata": {},
   "outputs": [],
   "source": [
    "# Get gradients\n",
    "gvs = optimizer.compute_gradients(cost)\n",
    "# Apply gradients\n",
    "apply_gradients = optimizer.apply_gradients(gvs)"
   ]
  },
  {
   "cell_type": "code",
   "execution_count": 26,
   "id": "de31d132",
   "metadata": {},
   "outputs": [
    {
     "ename": "TypeError",
     "evalue": "Argument `fetch` = None has invalid type \"NoneType\". Cannot be None",
     "output_type": "error",
     "traceback": [
      "\u001b[1;31m---------------------------------------------------------------------------\u001b[0m",
      "\u001b[1;31mTypeError\u001b[0m                                 Traceback (most recent call last)",
      "Input \u001b[1;32mIn [26]\u001b[0m, in \u001b[0;36m<cell line: 19>\u001b[1;34m()\u001b[0m\n\u001b[0;32m     17\u001b[0m sess\u001b[38;5;241m.\u001b[39mrun(tf\u001b[38;5;241m.\u001b[39mglobal_variables_initializer())\n\u001b[0;32m     19\u001b[0m \u001b[38;5;28;01mfor\u001b[39;00m step \u001b[38;5;129;01min\u001b[39;00m \u001b[38;5;28mrange\u001b[39m(\u001b[38;5;241m100\u001b[39m):\n\u001b[1;32m---> 20\u001b[0m     \u001b[38;5;28mprint\u001b[39m(step, \u001b[43msess\u001b[49m\u001b[38;5;241;43m.\u001b[39;49m\u001b[43mrun\u001b[49m\u001b[43m(\u001b[49m\u001b[43m[\u001b[49m\u001b[43mgradient\u001b[49m\u001b[43m,\u001b[49m\u001b[43m \u001b[49m\u001b[43mW\u001b[49m\u001b[43m,\u001b[49m\u001b[43m \u001b[49m\u001b[43mgvs\u001b[49m\u001b[43m]\u001b[49m\u001b[43m)\u001b[49m)\n\u001b[0;32m     21\u001b[0m     sess\u001b[38;5;241m.\u001b[39mrun(appply_gradients)\n",
      "File \u001b[1;32m~\\AppData\\Roaming\\Python\\Python39\\site-packages\\tensorflow\\python\\client\\session.py:968\u001b[0m, in \u001b[0;36mBaseSession.run\u001b[1;34m(self, fetches, feed_dict, options, run_metadata)\u001b[0m\n\u001b[0;32m    965\u001b[0m run_metadata_ptr \u001b[38;5;241m=\u001b[39m tf_session\u001b[38;5;241m.\u001b[39mTF_NewBuffer() \u001b[38;5;28;01mif\u001b[39;00m run_metadata \u001b[38;5;28;01melse\u001b[39;00m \u001b[38;5;28;01mNone\u001b[39;00m\n\u001b[0;32m    967\u001b[0m \u001b[38;5;28;01mtry\u001b[39;00m:\n\u001b[1;32m--> 968\u001b[0m   result \u001b[38;5;241m=\u001b[39m \u001b[38;5;28;43mself\u001b[39;49m\u001b[38;5;241;43m.\u001b[39;49m\u001b[43m_run\u001b[49m\u001b[43m(\u001b[49m\u001b[38;5;28;43;01mNone\u001b[39;49;00m\u001b[43m,\u001b[49m\u001b[43m \u001b[49m\u001b[43mfetches\u001b[49m\u001b[43m,\u001b[49m\u001b[43m \u001b[49m\u001b[43mfeed_dict\u001b[49m\u001b[43m,\u001b[49m\u001b[43m \u001b[49m\u001b[43moptions_ptr\u001b[49m\u001b[43m,\u001b[49m\n\u001b[0;32m    969\u001b[0m \u001b[43m                     \u001b[49m\u001b[43mrun_metadata_ptr\u001b[49m\u001b[43m)\u001b[49m\n\u001b[0;32m    970\u001b[0m   \u001b[38;5;28;01mif\u001b[39;00m run_metadata:\n\u001b[0;32m    971\u001b[0m     proto_data \u001b[38;5;241m=\u001b[39m tf_session\u001b[38;5;241m.\u001b[39mTF_GetBuffer(run_metadata_ptr)\n",
      "File \u001b[1;32m~\\AppData\\Roaming\\Python\\Python39\\site-packages\\tensorflow\\python\\client\\session.py:1176\u001b[0m, in \u001b[0;36mBaseSession._run\u001b[1;34m(self, handle, fetches, feed_dict, options, run_metadata)\u001b[0m\n\u001b[0;32m   1173\u001b[0m       feed_map[compat\u001b[38;5;241m.\u001b[39mas_bytes(subfeed_t\u001b[38;5;241m.\u001b[39mname)] \u001b[38;5;241m=\u001b[39m (subfeed_t, subfeed_val)\n\u001b[0;32m   1175\u001b[0m \u001b[38;5;66;03m# Create a fetch handler to take care of the structure of fetches.\u001b[39;00m\n\u001b[1;32m-> 1176\u001b[0m fetch_handler \u001b[38;5;241m=\u001b[39m \u001b[43m_FetchHandler\u001b[49m\u001b[43m(\u001b[49m\n\u001b[0;32m   1177\u001b[0m \u001b[43m    \u001b[49m\u001b[38;5;28;43mself\u001b[39;49m\u001b[38;5;241;43m.\u001b[39;49m\u001b[43m_graph\u001b[49m\u001b[43m,\u001b[49m\u001b[43m \u001b[49m\u001b[43mfetches\u001b[49m\u001b[43m,\u001b[49m\u001b[43m \u001b[49m\u001b[43mfeed_dict_tensor\u001b[49m\u001b[43m,\u001b[49m\u001b[43m \u001b[49m\u001b[43mfeed_handles\u001b[49m\u001b[38;5;241;43m=\u001b[39;49m\u001b[43mfeed_handles\u001b[49m\u001b[43m)\u001b[49m\n\u001b[0;32m   1179\u001b[0m \u001b[38;5;66;03m# Run request and get response.\u001b[39;00m\n\u001b[0;32m   1180\u001b[0m \u001b[38;5;66;03m# We need to keep the returned movers alive for the following _do_run().\u001b[39;00m\n\u001b[0;32m   1181\u001b[0m \u001b[38;5;66;03m# These movers are no longer needed when _do_run() completes, and\u001b[39;00m\n\u001b[0;32m   1182\u001b[0m \u001b[38;5;66;03m# are deleted when `movers` goes out of scope when this _run() ends.\u001b[39;00m\n\u001b[0;32m   1183\u001b[0m \u001b[38;5;66;03m# TODO(yuanbyu, keveman): Revisit whether we should just treat feeding\u001b[39;00m\n\u001b[0;32m   1184\u001b[0m \u001b[38;5;66;03m# of a handle from a different device as an error.\u001b[39;00m\n\u001b[0;32m   1185\u001b[0m _ \u001b[38;5;241m=\u001b[39m \u001b[38;5;28mself\u001b[39m\u001b[38;5;241m.\u001b[39m_update_with_movers(feed_dict_tensor, feed_map)\n",
      "File \u001b[1;32m~\\AppData\\Roaming\\Python\\Python39\\site-packages\\tensorflow\\python\\client\\session.py:485\u001b[0m, in \u001b[0;36m_FetchHandler.__init__\u001b[1;34m(self, graph, fetches, feeds, feed_handles)\u001b[0m\n\u001b[0;32m    473\u001b[0m \u001b[38;5;124;03m\"\"\"Creates a fetch handler.\u001b[39;00m\n\u001b[0;32m    474\u001b[0m \n\u001b[0;32m    475\u001b[0m \u001b[38;5;124;03mArgs:\u001b[39;00m\n\u001b[1;32m   (...)\u001b[0m\n\u001b[0;32m    482\u001b[0m \u001b[38;5;124;03m    direct feeds.\u001b[39;00m\n\u001b[0;32m    483\u001b[0m \u001b[38;5;124;03m\"\"\"\u001b[39;00m\n\u001b[0;32m    484\u001b[0m \u001b[38;5;28;01mwith\u001b[39;00m graph\u001b[38;5;241m.\u001b[39mas_default():\n\u001b[1;32m--> 485\u001b[0m   \u001b[38;5;28mself\u001b[39m\u001b[38;5;241m.\u001b[39m_fetch_mapper \u001b[38;5;241m=\u001b[39m \u001b[43m_FetchMapper\u001b[49m\u001b[38;5;241;43m.\u001b[39;49m\u001b[43mfor_fetch\u001b[49m\u001b[43m(\u001b[49m\u001b[43mfetches\u001b[49m\u001b[43m)\u001b[49m\n\u001b[0;32m    486\u001b[0m \u001b[38;5;28mself\u001b[39m\u001b[38;5;241m.\u001b[39m_fetches \u001b[38;5;241m=\u001b[39m []\n\u001b[0;32m    487\u001b[0m \u001b[38;5;28mself\u001b[39m\u001b[38;5;241m.\u001b[39m_targets \u001b[38;5;241m=\u001b[39m []\n",
      "File \u001b[1;32m~\\AppData\\Roaming\\Python\\Python39\\site-packages\\tensorflow\\python\\client\\session.py:266\u001b[0m, in \u001b[0;36m_FetchMapper.for_fetch\u001b[1;34m(fetch)\u001b[0m\n\u001b[0;32m    262\u001b[0m   \u001b[38;5;28;01mraise\u001b[39;00m \u001b[38;5;167;01mTypeError\u001b[39;00m(\u001b[38;5;124mf\u001b[39m\u001b[38;5;124m'\u001b[39m\u001b[38;5;124mArgument `fetch` = \u001b[39m\u001b[38;5;132;01m{\u001b[39;00mfetch\u001b[38;5;132;01m}\u001b[39;00m\u001b[38;5;124m has invalid type \u001b[39m\u001b[38;5;124m'\u001b[39m\n\u001b[0;32m    263\u001b[0m                   \u001b[38;5;124mf\u001b[39m\u001b[38;5;124m'\u001b[39m\u001b[38;5;124m\"\u001b[39m\u001b[38;5;132;01m{\u001b[39;00m\u001b[38;5;28mtype\u001b[39m(fetch)\u001b[38;5;241m.\u001b[39m\u001b[38;5;18m__name__\u001b[39m\u001b[38;5;132;01m}\u001b[39;00m\u001b[38;5;124m\"\u001b[39m\u001b[38;5;124m. Cannot be None\u001b[39m\u001b[38;5;124m'\u001b[39m)\n\u001b[0;32m    264\u001b[0m \u001b[38;5;28;01melif\u001b[39;00m \u001b[38;5;28misinstance\u001b[39m(fetch, (\u001b[38;5;28mlist\u001b[39m, \u001b[38;5;28mtuple\u001b[39m)):\n\u001b[0;32m    265\u001b[0m   \u001b[38;5;66;03m# NOTE(touts): This is also the code path for namedtuples.\u001b[39;00m\n\u001b[1;32m--> 266\u001b[0m   \u001b[38;5;28;01mreturn\u001b[39;00m \u001b[43m_ListFetchMapper\u001b[49m\u001b[43m(\u001b[49m\u001b[43mfetch\u001b[49m\u001b[43m)\u001b[49m\n\u001b[0;32m    267\u001b[0m \u001b[38;5;28;01melif\u001b[39;00m \u001b[38;5;28misinstance\u001b[39m(fetch, collections_abc\u001b[38;5;241m.\u001b[39mMapping):\n\u001b[0;32m    268\u001b[0m   \u001b[38;5;28;01mreturn\u001b[39;00m _DictFetchMapper(fetch)\n",
      "File \u001b[1;32m~\\AppData\\Roaming\\Python\\Python39\\site-packages\\tensorflow\\python\\client\\session.py:378\u001b[0m, in \u001b[0;36m_ListFetchMapper.__init__\u001b[1;34m(self, fetches)\u001b[0m\n\u001b[0;32m    376\u001b[0m \u001b[38;5;28;01melse\u001b[39;00m:\n\u001b[0;32m    377\u001b[0m   \u001b[38;5;28mself\u001b[39m\u001b[38;5;241m.\u001b[39m_fetch_type \u001b[38;5;241m=\u001b[39m \u001b[38;5;28mtype\u001b[39m(fetches)\n\u001b[1;32m--> 378\u001b[0m \u001b[38;5;28mself\u001b[39m\u001b[38;5;241m.\u001b[39m_mappers \u001b[38;5;241m=\u001b[39m [_FetchMapper\u001b[38;5;241m.\u001b[39mfor_fetch(fetch) \u001b[38;5;28;01mfor\u001b[39;00m fetch \u001b[38;5;129;01min\u001b[39;00m fetches]\n\u001b[0;32m    379\u001b[0m \u001b[38;5;28mself\u001b[39m\u001b[38;5;241m.\u001b[39m_unique_fetches, \u001b[38;5;28mself\u001b[39m\u001b[38;5;241m.\u001b[39m_value_indices \u001b[38;5;241m=\u001b[39m _uniquify_fetches(\u001b[38;5;28mself\u001b[39m\u001b[38;5;241m.\u001b[39m_mappers)\n",
      "File \u001b[1;32m~\\AppData\\Roaming\\Python\\Python39\\site-packages\\tensorflow\\python\\client\\session.py:378\u001b[0m, in \u001b[0;36m<listcomp>\u001b[1;34m(.0)\u001b[0m\n\u001b[0;32m    376\u001b[0m \u001b[38;5;28;01melse\u001b[39;00m:\n\u001b[0;32m    377\u001b[0m   \u001b[38;5;28mself\u001b[39m\u001b[38;5;241m.\u001b[39m_fetch_type \u001b[38;5;241m=\u001b[39m \u001b[38;5;28mtype\u001b[39m(fetches)\n\u001b[1;32m--> 378\u001b[0m \u001b[38;5;28mself\u001b[39m\u001b[38;5;241m.\u001b[39m_mappers \u001b[38;5;241m=\u001b[39m [\u001b[43m_FetchMapper\u001b[49m\u001b[38;5;241;43m.\u001b[39;49m\u001b[43mfor_fetch\u001b[49m\u001b[43m(\u001b[49m\u001b[43mfetch\u001b[49m\u001b[43m)\u001b[49m \u001b[38;5;28;01mfor\u001b[39;00m fetch \u001b[38;5;129;01min\u001b[39;00m fetches]\n\u001b[0;32m    379\u001b[0m \u001b[38;5;28mself\u001b[39m\u001b[38;5;241m.\u001b[39m_unique_fetches, \u001b[38;5;28mself\u001b[39m\u001b[38;5;241m.\u001b[39m_value_indices \u001b[38;5;241m=\u001b[39m _uniquify_fetches(\u001b[38;5;28mself\u001b[39m\u001b[38;5;241m.\u001b[39m_mappers)\n",
      "File \u001b[1;32m~\\AppData\\Roaming\\Python\\Python39\\site-packages\\tensorflow\\python\\client\\session.py:266\u001b[0m, in \u001b[0;36m_FetchMapper.for_fetch\u001b[1;34m(fetch)\u001b[0m\n\u001b[0;32m    262\u001b[0m   \u001b[38;5;28;01mraise\u001b[39;00m \u001b[38;5;167;01mTypeError\u001b[39;00m(\u001b[38;5;124mf\u001b[39m\u001b[38;5;124m'\u001b[39m\u001b[38;5;124mArgument `fetch` = \u001b[39m\u001b[38;5;132;01m{\u001b[39;00mfetch\u001b[38;5;132;01m}\u001b[39;00m\u001b[38;5;124m has invalid type \u001b[39m\u001b[38;5;124m'\u001b[39m\n\u001b[0;32m    263\u001b[0m                   \u001b[38;5;124mf\u001b[39m\u001b[38;5;124m'\u001b[39m\u001b[38;5;124m\"\u001b[39m\u001b[38;5;132;01m{\u001b[39;00m\u001b[38;5;28mtype\u001b[39m(fetch)\u001b[38;5;241m.\u001b[39m\u001b[38;5;18m__name__\u001b[39m\u001b[38;5;132;01m}\u001b[39;00m\u001b[38;5;124m\"\u001b[39m\u001b[38;5;124m. Cannot be None\u001b[39m\u001b[38;5;124m'\u001b[39m)\n\u001b[0;32m    264\u001b[0m \u001b[38;5;28;01melif\u001b[39;00m \u001b[38;5;28misinstance\u001b[39m(fetch, (\u001b[38;5;28mlist\u001b[39m, \u001b[38;5;28mtuple\u001b[39m)):\n\u001b[0;32m    265\u001b[0m   \u001b[38;5;66;03m# NOTE(touts): This is also the code path for namedtuples.\u001b[39;00m\n\u001b[1;32m--> 266\u001b[0m   \u001b[38;5;28;01mreturn\u001b[39;00m \u001b[43m_ListFetchMapper\u001b[49m\u001b[43m(\u001b[49m\u001b[43mfetch\u001b[49m\u001b[43m)\u001b[49m\n\u001b[0;32m    267\u001b[0m \u001b[38;5;28;01melif\u001b[39;00m \u001b[38;5;28misinstance\u001b[39m(fetch, collections_abc\u001b[38;5;241m.\u001b[39mMapping):\n\u001b[0;32m    268\u001b[0m   \u001b[38;5;28;01mreturn\u001b[39;00m _DictFetchMapper(fetch)\n",
      "File \u001b[1;32m~\\AppData\\Roaming\\Python\\Python39\\site-packages\\tensorflow\\python\\client\\session.py:378\u001b[0m, in \u001b[0;36m_ListFetchMapper.__init__\u001b[1;34m(self, fetches)\u001b[0m\n\u001b[0;32m    376\u001b[0m \u001b[38;5;28;01melse\u001b[39;00m:\n\u001b[0;32m    377\u001b[0m   \u001b[38;5;28mself\u001b[39m\u001b[38;5;241m.\u001b[39m_fetch_type \u001b[38;5;241m=\u001b[39m \u001b[38;5;28mtype\u001b[39m(fetches)\n\u001b[1;32m--> 378\u001b[0m \u001b[38;5;28mself\u001b[39m\u001b[38;5;241m.\u001b[39m_mappers \u001b[38;5;241m=\u001b[39m [_FetchMapper\u001b[38;5;241m.\u001b[39mfor_fetch(fetch) \u001b[38;5;28;01mfor\u001b[39;00m fetch \u001b[38;5;129;01min\u001b[39;00m fetches]\n\u001b[0;32m    379\u001b[0m \u001b[38;5;28mself\u001b[39m\u001b[38;5;241m.\u001b[39m_unique_fetches, \u001b[38;5;28mself\u001b[39m\u001b[38;5;241m.\u001b[39m_value_indices \u001b[38;5;241m=\u001b[39m _uniquify_fetches(\u001b[38;5;28mself\u001b[39m\u001b[38;5;241m.\u001b[39m_mappers)\n",
      "File \u001b[1;32m~\\AppData\\Roaming\\Python\\Python39\\site-packages\\tensorflow\\python\\client\\session.py:378\u001b[0m, in \u001b[0;36m<listcomp>\u001b[1;34m(.0)\u001b[0m\n\u001b[0;32m    376\u001b[0m \u001b[38;5;28;01melse\u001b[39;00m:\n\u001b[0;32m    377\u001b[0m   \u001b[38;5;28mself\u001b[39m\u001b[38;5;241m.\u001b[39m_fetch_type \u001b[38;5;241m=\u001b[39m \u001b[38;5;28mtype\u001b[39m(fetches)\n\u001b[1;32m--> 378\u001b[0m \u001b[38;5;28mself\u001b[39m\u001b[38;5;241m.\u001b[39m_mappers \u001b[38;5;241m=\u001b[39m [\u001b[43m_FetchMapper\u001b[49m\u001b[38;5;241;43m.\u001b[39;49m\u001b[43mfor_fetch\u001b[49m\u001b[43m(\u001b[49m\u001b[43mfetch\u001b[49m\u001b[43m)\u001b[49m \u001b[38;5;28;01mfor\u001b[39;00m fetch \u001b[38;5;129;01min\u001b[39;00m fetches]\n\u001b[0;32m    379\u001b[0m \u001b[38;5;28mself\u001b[39m\u001b[38;5;241m.\u001b[39m_unique_fetches, \u001b[38;5;28mself\u001b[39m\u001b[38;5;241m.\u001b[39m_value_indices \u001b[38;5;241m=\u001b[39m _uniquify_fetches(\u001b[38;5;28mself\u001b[39m\u001b[38;5;241m.\u001b[39m_mappers)\n",
      "File \u001b[1;32m~\\AppData\\Roaming\\Python\\Python39\\site-packages\\tensorflow\\python\\client\\session.py:266\u001b[0m, in \u001b[0;36m_FetchMapper.for_fetch\u001b[1;34m(fetch)\u001b[0m\n\u001b[0;32m    262\u001b[0m   \u001b[38;5;28;01mraise\u001b[39;00m \u001b[38;5;167;01mTypeError\u001b[39;00m(\u001b[38;5;124mf\u001b[39m\u001b[38;5;124m'\u001b[39m\u001b[38;5;124mArgument `fetch` = \u001b[39m\u001b[38;5;132;01m{\u001b[39;00mfetch\u001b[38;5;132;01m}\u001b[39;00m\u001b[38;5;124m has invalid type \u001b[39m\u001b[38;5;124m'\u001b[39m\n\u001b[0;32m    263\u001b[0m                   \u001b[38;5;124mf\u001b[39m\u001b[38;5;124m'\u001b[39m\u001b[38;5;124m\"\u001b[39m\u001b[38;5;132;01m{\u001b[39;00m\u001b[38;5;28mtype\u001b[39m(fetch)\u001b[38;5;241m.\u001b[39m\u001b[38;5;18m__name__\u001b[39m\u001b[38;5;132;01m}\u001b[39;00m\u001b[38;5;124m\"\u001b[39m\u001b[38;5;124m. Cannot be None\u001b[39m\u001b[38;5;124m'\u001b[39m)\n\u001b[0;32m    264\u001b[0m \u001b[38;5;28;01melif\u001b[39;00m \u001b[38;5;28misinstance\u001b[39m(fetch, (\u001b[38;5;28mlist\u001b[39m, \u001b[38;5;28mtuple\u001b[39m)):\n\u001b[0;32m    265\u001b[0m   \u001b[38;5;66;03m# NOTE(touts): This is also the code path for namedtuples.\u001b[39;00m\n\u001b[1;32m--> 266\u001b[0m   \u001b[38;5;28;01mreturn\u001b[39;00m \u001b[43m_ListFetchMapper\u001b[49m\u001b[43m(\u001b[49m\u001b[43mfetch\u001b[49m\u001b[43m)\u001b[49m\n\u001b[0;32m    267\u001b[0m \u001b[38;5;28;01melif\u001b[39;00m \u001b[38;5;28misinstance\u001b[39m(fetch, collections_abc\u001b[38;5;241m.\u001b[39mMapping):\n\u001b[0;32m    268\u001b[0m   \u001b[38;5;28;01mreturn\u001b[39;00m _DictFetchMapper(fetch)\n",
      "File \u001b[1;32m~\\AppData\\Roaming\\Python\\Python39\\site-packages\\tensorflow\\python\\client\\session.py:378\u001b[0m, in \u001b[0;36m_ListFetchMapper.__init__\u001b[1;34m(self, fetches)\u001b[0m\n\u001b[0;32m    376\u001b[0m \u001b[38;5;28;01melse\u001b[39;00m:\n\u001b[0;32m    377\u001b[0m   \u001b[38;5;28mself\u001b[39m\u001b[38;5;241m.\u001b[39m_fetch_type \u001b[38;5;241m=\u001b[39m \u001b[38;5;28mtype\u001b[39m(fetches)\n\u001b[1;32m--> 378\u001b[0m \u001b[38;5;28mself\u001b[39m\u001b[38;5;241m.\u001b[39m_mappers \u001b[38;5;241m=\u001b[39m [_FetchMapper\u001b[38;5;241m.\u001b[39mfor_fetch(fetch) \u001b[38;5;28;01mfor\u001b[39;00m fetch \u001b[38;5;129;01min\u001b[39;00m fetches]\n\u001b[0;32m    379\u001b[0m \u001b[38;5;28mself\u001b[39m\u001b[38;5;241m.\u001b[39m_unique_fetches, \u001b[38;5;28mself\u001b[39m\u001b[38;5;241m.\u001b[39m_value_indices \u001b[38;5;241m=\u001b[39m _uniquify_fetches(\u001b[38;5;28mself\u001b[39m\u001b[38;5;241m.\u001b[39m_mappers)\n",
      "File \u001b[1;32m~\\AppData\\Roaming\\Python\\Python39\\site-packages\\tensorflow\\python\\client\\session.py:378\u001b[0m, in \u001b[0;36m<listcomp>\u001b[1;34m(.0)\u001b[0m\n\u001b[0;32m    376\u001b[0m \u001b[38;5;28;01melse\u001b[39;00m:\n\u001b[0;32m    377\u001b[0m   \u001b[38;5;28mself\u001b[39m\u001b[38;5;241m.\u001b[39m_fetch_type \u001b[38;5;241m=\u001b[39m \u001b[38;5;28mtype\u001b[39m(fetches)\n\u001b[1;32m--> 378\u001b[0m \u001b[38;5;28mself\u001b[39m\u001b[38;5;241m.\u001b[39m_mappers \u001b[38;5;241m=\u001b[39m [\u001b[43m_FetchMapper\u001b[49m\u001b[38;5;241;43m.\u001b[39;49m\u001b[43mfor_fetch\u001b[49m\u001b[43m(\u001b[49m\u001b[43mfetch\u001b[49m\u001b[43m)\u001b[49m \u001b[38;5;28;01mfor\u001b[39;00m fetch \u001b[38;5;129;01min\u001b[39;00m fetches]\n\u001b[0;32m    379\u001b[0m \u001b[38;5;28mself\u001b[39m\u001b[38;5;241m.\u001b[39m_unique_fetches, \u001b[38;5;28mself\u001b[39m\u001b[38;5;241m.\u001b[39m_value_indices \u001b[38;5;241m=\u001b[39m _uniquify_fetches(\u001b[38;5;28mself\u001b[39m\u001b[38;5;241m.\u001b[39m_mappers)\n",
      "File \u001b[1;32m~\\AppData\\Roaming\\Python\\Python39\\site-packages\\tensorflow\\python\\client\\session.py:262\u001b[0m, in \u001b[0;36m_FetchMapper.for_fetch\u001b[1;34m(fetch)\u001b[0m\n\u001b[0;32m    249\u001b[0m \u001b[38;5;124;03m\"\"\"Creates fetch mapper that handles the structure of `fetch`.\u001b[39;00m\n\u001b[0;32m    250\u001b[0m \n\u001b[0;32m    251\u001b[0m \u001b[38;5;124;03mThe default graph must be the one from which we want to fetch values when\u001b[39;00m\n\u001b[1;32m   (...)\u001b[0m\n\u001b[0;32m    259\u001b[0m \u001b[38;5;124;03m  An instance of a subclass of `_FetchMapper` that handles the shape.\u001b[39;00m\n\u001b[0;32m    260\u001b[0m \u001b[38;5;124;03m\"\"\"\u001b[39;00m\n\u001b[0;32m    261\u001b[0m \u001b[38;5;28;01mif\u001b[39;00m fetch \u001b[38;5;129;01mis\u001b[39;00m \u001b[38;5;28;01mNone\u001b[39;00m:\n\u001b[1;32m--> 262\u001b[0m   \u001b[38;5;28;01mraise\u001b[39;00m \u001b[38;5;167;01mTypeError\u001b[39;00m(\u001b[38;5;124mf\u001b[39m\u001b[38;5;124m'\u001b[39m\u001b[38;5;124mArgument `fetch` = \u001b[39m\u001b[38;5;132;01m{\u001b[39;00mfetch\u001b[38;5;132;01m}\u001b[39;00m\u001b[38;5;124m has invalid type \u001b[39m\u001b[38;5;124m'\u001b[39m\n\u001b[0;32m    263\u001b[0m                   \u001b[38;5;124mf\u001b[39m\u001b[38;5;124m'\u001b[39m\u001b[38;5;124m\"\u001b[39m\u001b[38;5;132;01m{\u001b[39;00m\u001b[38;5;28mtype\u001b[39m(fetch)\u001b[38;5;241m.\u001b[39m\u001b[38;5;18m__name__\u001b[39m\u001b[38;5;132;01m}\u001b[39;00m\u001b[38;5;124m\"\u001b[39m\u001b[38;5;124m. Cannot be None\u001b[39m\u001b[38;5;124m'\u001b[39m)\n\u001b[0;32m    264\u001b[0m \u001b[38;5;28;01melif\u001b[39;00m \u001b[38;5;28misinstance\u001b[39m(fetch, (\u001b[38;5;28mlist\u001b[39m, \u001b[38;5;28mtuple\u001b[39m)):\n\u001b[0;32m    265\u001b[0m   \u001b[38;5;66;03m# NOTE(touts): This is also the code path for namedtuples.\u001b[39;00m\n\u001b[0;32m    266\u001b[0m   \u001b[38;5;28;01mreturn\u001b[39;00m _ListFetchMapper(fetch)\n",
      "\u001b[1;31mTypeError\u001b[0m: Argument `fetch` = None has invalid type \"NoneType\". Cannot be None"
     ]
    }
   ],
   "source": [
    "W = tf.Variable(5.)\n",
    "X = [1,2,3]\n",
    "Y = [1,2,3]\n",
    "hypothesis = X * W\n",
    "\n",
    "# 수동 gradient\n",
    "gradient = tf.reduce_mean((W * X - Y) * X) * 2\n",
    "\n",
    "cost = tf.reduce_mean(tf.square(hypothesis - Y))\n",
    "\n",
    "# 자동 gradient\n",
    "optimizer = tf.train.GradientDescentOptimizer(learning_rate=0.01)\n",
    "gvs = optimizer.compute_gradients(cost)\n",
    "apply_gradients = optimizer.apply_gradients(gvs)\n",
    "\n",
    "sess=tf.Session()\n",
    "sess.run(tf.global_variables_initializer())\n",
    "\n",
    "for step in range(100):\n",
    "    print(step, sess.run([gradient, W, gvs]))\n",
    "    sess.run(appply_gradients)"
   ]
  }
 ],
 "metadata": {
  "kernelspec": {
   "display_name": "Python 3 (ipykernel)",
   "language": "python",
   "name": "python3"
  },
  "language_info": {
   "codemirror_mode": {
    "name": "ipython",
    "version": 3
   },
   "file_extension": ".py",
   "mimetype": "text/x-python",
   "name": "python",
   "nbconvert_exporter": "python",
   "pygments_lexer": "ipython3",
   "version": "3.9.12"
  }
 },
 "nbformat": 4,
 "nbformat_minor": 5
}
